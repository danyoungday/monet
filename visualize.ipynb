{
 "cells": [
  {
   "cell_type": "code",
   "execution_count": null,
   "id": "75f06540",
   "metadata": {},
   "outputs": [],
   "source": [
    "import base64\n",
    "from io import BytesIO\n",
    "from PIL import Image\n",
    "\n",
    "import matplotlib.pyplot as plt\n",
    "import pandas as pd\n",
    "\n",
    "from run import History"
   ]
  },
  {
   "cell_type": "code",
   "execution_count": null,
   "id": "2f611c46",
   "metadata": {},
   "outputs": [],
   "source": [
    "history_path = \"results/winrate.jsonl\"\n",
    "\n",
    "history = History()\n",
    "history.load_history(history_path)\n",
    "\n",
    "def decode_image(base64_str: str) -> Image:\n",
    "    image_data = base64.b64decode(base64_str)\n",
    "    return Image.open(BytesIO(image_data))"
   ]
  },
  {
   "cell_type": "code",
   "execution_count": null,
   "id": "aac0bab8",
   "metadata": {},
   "outputs": [],
   "source": [
    "df = pd.DataFrame(history.entries)\n",
    "print(df.shape)\n",
    "df.head()"
   ]
  },
  {
   "cell_type": "code",
   "execution_count": null,
   "id": "1fb6596b",
   "metadata": {},
   "outputs": [],
   "source": [
    "# Plot the value counts of the novelty score column in a bar chart with x axis sorted by key\n",
    "df['novelty_score'].value_counts().sort_index().plot(kind='bar')"
   ]
  },
  {
   "cell_type": "code",
   "execution_count": null,
   "id": "d7d1e9e2",
   "metadata": {},
   "outputs": [],
   "source": [
    "def compare_novelty_trends(history_paths: list[str]):\n",
    "    fig, ax = plt.subplots()\n",
    "    for history_path in history_paths:\n",
    "        history = History()\n",
    "        history.load_history(history_path)\n",
    "        df = pd.DataFrame(history.entries)\n",
    "\n",
    "        avg_novelty = df.groupby(\"gen\")[\"novelty_score\"].mean()\n",
    "        std_novelty = df.groupby(\"gen\")[\"novelty_score\"].std()\n",
    "\n",
    "        ax.errorbar(\n",
    "            avg_novelty.index,\n",
    "            avg_novelty.values,\n",
    "            yerr=std_novelty.values,\n",
    "            marker=\"o\",\n",
    "            label=history_path)\n",
    "    \n",
    "    ax.axhline(y=6, color=\"gray\", linestyle=\"--\")\n",
    "\n",
    "    ax.set_xlabel(\"Generation\")\n",
    "    ax.set_ylabel(\"Average Novelty Score\")\n",
    "    ax.legend()\n",
    "    ax.set_title(\"Novelty Score Trend\")\n",
    "\n",
    "compare_novelty_trends(\n",
    "    [\"results/parallel_history.jsonl\",\n",
    "     \"results/pillow.jsonl\",\n",
    "     \"results/scoreprompt.jsonl\"\n",
    "    ]\n",
    ")"
   ]
  },
  {
   "cell_type": "code",
   "execution_count": null,
   "id": "9fe09278",
   "metadata": {},
   "outputs": [],
   "source": [
    "for row in history.entries:\n",
    "    img = decode_image(row[\"base64_img\"])\n",
    "    display(img)\n",
    "    print(f\"Generation: {row['gen']}\")\n",
    "    print(f\"Novelty Score: {row['novelty_score']}\")\n",
    "    print(f\"Rationale: {row['rationale']}\")"
   ]
  }
 ],
 "metadata": {
  "kernelspec": {
   "display_name": "draw",
   "language": "python",
   "name": "python3"
  },
  "language_info": {
   "codemirror_mode": {
    "name": "ipython",
    "version": 3
   },
   "file_extension": ".py",
   "mimetype": "text/x-python",
   "name": "python",
   "nbconvert_exporter": "python",
   "pygments_lexer": "ipython3",
   "version": "3.12.11"
  }
 },
 "nbformat": 4,
 "nbformat_minor": 5
}
